{
 "cells": [
  {
   "cell_type": "markdown",
   "metadata": {},
   "source": [
    "Import "
   ]
  },
  {
   "cell_type": "code",
   "execution_count": 1,
   "metadata": {},
   "outputs": [],
   "source": [
    "import re\n",
    "import pandas as pd\n",
    "import numpy as np\n",
    "import random\n",
    "from sentence_transformers import SentenceTransformer\n",
    "from sklearn.cluster import KMeans\n",
    "from nltk.tokenize import word_tokenize"
   ]
  },
  {
   "cell_type": "markdown",
   "metadata": {},
   "source": [
    "Load Data & Pre-processing"
   ]
  },
  {
   "cell_type": "code",
   "execution_count": 2,
   "metadata": {},
   "outputs": [
    {
     "data": {
      "text/html": [
       "<div>\n",
       "<style scoped>\n",
       "    .dataframe tbody tr th:only-of-type {\n",
       "        vertical-align: middle;\n",
       "    }\n",
       "\n",
       "    .dataframe tbody tr th {\n",
       "        vertical-align: top;\n",
       "    }\n",
       "\n",
       "    .dataframe thead th {\n",
       "        text-align: right;\n",
       "    }\n",
       "</style>\n",
       "<table border=\"1\" class=\"dataframe\">\n",
       "  <thead>\n",
       "    <tr style=\"text-align: right;\">\n",
       "      <th></th>\n",
       "      <th>id</th>\n",
       "      <th>title</th>\n",
       "      <th>contents</th>\n",
       "      <th>text</th>\n",
       "      <th>processed_text</th>\n",
       "    </tr>\n",
       "  </thead>\n",
       "  <tbody>\n",
       "    <tr>\n",
       "      <th>0</th>\n",
       "      <td>NEWS_00000</td>\n",
       "      <td>Spanish coach facing action in race row</td>\n",
       "      <td>MADRID (AFP) - Spanish national team coach Lui...</td>\n",
       "      <td>Spanish coach facing action in race row : MADR...</td>\n",
       "      <td>spanish coach facing action in race row madrid...</td>\n",
       "    </tr>\n",
       "    <tr>\n",
       "      <th>1</th>\n",
       "      <td>NEWS_00001</td>\n",
       "      <td>Bruce Lee statue for divided city</td>\n",
       "      <td>In Bosnia, where one man #39;s hero is often a...</td>\n",
       "      <td>Bruce Lee statue for divided city : In Bosnia,...</td>\n",
       "      <td>bruce lee statue for divided city in bosnia wh...</td>\n",
       "    </tr>\n",
       "    <tr>\n",
       "      <th>2</th>\n",
       "      <td>NEWS_00002</td>\n",
       "      <td>Only Lovers Left Alive's Tilda Swinton Talks A...</td>\n",
       "      <td>Yasmine Hamdan performs 'Hal' which she also s...</td>\n",
       "      <td>Only Lovers Left Alive's Tilda Swinton Talks A...</td>\n",
       "      <td>only lovers left alive s tilda swinton talks a...</td>\n",
       "    </tr>\n",
       "    <tr>\n",
       "      <th>3</th>\n",
       "      <td>NEWS_00003</td>\n",
       "      <td>Macromedia contributes to eBay Stores</td>\n",
       "      <td>Macromedia has announced a special version of ...</td>\n",
       "      <td>Macromedia contributes to eBay Stores : Macrom...</td>\n",
       "      <td>macromedia contributes to ebay stores macromed...</td>\n",
       "    </tr>\n",
       "    <tr>\n",
       "      <th>4</th>\n",
       "      <td>NEWS_00004</td>\n",
       "      <td>Qualcomm plans to phone it in on cellular repairs</td>\n",
       "      <td>Over-the-air fixes for cell phones comes to Qu...</td>\n",
       "      <td>Qualcomm plans to phone it in on cellular repa...</td>\n",
       "      <td>qualcomm plans to phone it in on cellular repa...</td>\n",
       "    </tr>\n",
       "  </tbody>\n",
       "</table>\n",
       "</div>"
      ],
      "text/plain": [
       "           id                                              title  \\\n",
       "0  NEWS_00000            Spanish coach facing action in race row   \n",
       "1  NEWS_00001                  Bruce Lee statue for divided city   \n",
       "2  NEWS_00002  Only Lovers Left Alive's Tilda Swinton Talks A...   \n",
       "3  NEWS_00003              Macromedia contributes to eBay Stores   \n",
       "4  NEWS_00004  Qualcomm plans to phone it in on cellular repairs   \n",
       "\n",
       "                                            contents  \\\n",
       "0  MADRID (AFP) - Spanish national team coach Lui...   \n",
       "1  In Bosnia, where one man #39;s hero is often a...   \n",
       "2  Yasmine Hamdan performs 'Hal' which she also s...   \n",
       "3  Macromedia has announced a special version of ...   \n",
       "4  Over-the-air fixes for cell phones comes to Qu...   \n",
       "\n",
       "                                                text  \\\n",
       "0  Spanish coach facing action in race row : MADR...   \n",
       "1  Bruce Lee statue for divided city : In Bosnia,...   \n",
       "2  Only Lovers Left Alive's Tilda Swinton Talks A...   \n",
       "3  Macromedia contributes to eBay Stores : Macrom...   \n",
       "4  Qualcomm plans to phone it in on cellular repa...   \n",
       "\n",
       "                                      processed_text  \n",
       "0  spanish coach facing action in race row madrid...  \n",
       "1  bruce lee statue for divided city in bosnia wh...  \n",
       "2  only lovers left alive s tilda swinton talks a...  \n",
       "3  macromedia contributes to ebay stores macromed...  \n",
       "4  qualcomm plans to phone it in on cellular repa...  "
      ]
     },
     "execution_count": 2,
     "metadata": {},
     "output_type": "execute_result"
    }
   ],
   "source": [
    "df = pd.read_csv('./data/news.csv')\n",
    "# 제목 + 내용\n",
    "df['text'] = df['title'] + ' : ' + df['contents']\n",
    "\n",
    "def preprocess_text(text):\n",
    "    # URL 제거  \n",
    "    text = re.sub(r'//www.huffingtonpost.com/entry/', '', text)\n",
    "    text = re.sub(r'//www.climatecentral.org/news/', '', text)\n",
    "    text = re.sub(r'//www.washingtonpost.com/', '', text)\n",
    "    text = re.sub(r'//www.torrentfreak.com/', '', text)\n",
    "    text = re.sub(r'//www.businessweek.com/articles/', '', text)\n",
    "    text = re.sub(r'//allthingsd.com/', '', text)\n",
    "    text = re.sub(r'//www.cbsnews.com/news/', '', text)\n",
    "    text = re.sub(r'//www.huffingtonpost.com/entry/', '', text)\n",
    "    text = re.sub(r'//www.buzzfeed.com/', '', text)\n",
    "    text = re.sub(r'//insidemovies.ew.com/', '', text)\n",
    "    text = re.sub(r'//www.huffingtonpost.com/entry/', '', text)\n",
    "    text = re.sub(r'//www.ew.com/', '', text)\n",
    "    text = re.sub(r'//nymag.com/daily/', '', text)\n",
    "    text = re.sub(r'//nymag.com/thecut/', '', text)\n",
    "    text = re.sub(r'//insidemovies.ew.com/', '', text)\n",
    "    text = re.sub(r'//thinkprogress.org/', '', text)\n",
    "    text = re.sub(r'//hoh.rollcall.com/', '', text)\n",
    "    text = re.sub(r'//www.bloomberg.com/', '', text)\n",
    "    text = re.sub(r'//www.huffingtonpost.com/entry/', '', text)\n",
    "    text = re.sub(r'//www.fastcompany.com/', '', text)\n",
    "    text = re.sub(r'//www.gossipcop.com/', '', text)\n",
    "    text = re.sub(r'//www.bloomberg.com/', '', text)\n",
    "    text = re.sub(r'//www.engadget.com/', '', text)\n",
    "    text = re.sub(r'//247wallst.com/', '', text)\n",
    "    text = re.sub(r'//247wallst.com/special-report/', '', text)\n",
    "    text = re.sub(r'//gizmodo.com/', '', text)\n",
    "    text = re.sub(r'//graphics.latimes.com/', '', text)\n",
    "    text = re.sub(r'//fivethirtyeight.com/features/', '', text)\n",
    "    text = re.sub(r'//apps.bostonglobe.com/', '', text)\n",
    "    text = re.sub(r'//pubx.co/.*', '', text)\n",
    "     \n",
    "    text = re.sub(r'html', '', text)\n",
    "    text = re.sub(r'short_description', '', text)\n",
    "    text = re.sub(r'\\\\', ' ', text)\n",
    "    \n",
    "    text = re.sub(r'#\\w+', '', text)\n",
    "    \n",
    "    text = re.sub(r'@\\w+', '', text)\n",
    "    \n",
    "    text = text.encode('ascii', 'ignore').decode('ascii')\n",
    "    \n",
    "    text = re.sub(r'\\s+', ' ', text).strip()\n",
    "\n",
    "    text = re.sub(r'\\d+', '', text)\n",
    "    \n",
    "    return text.lower()\n",
    "\n",
    "def remove_single_char_func(text, threshold=1):\n",
    "    words = word_tokenize(text)\n",
    "    text = ' '.join([word for word in words if len(word) > threshold])\n",
    "    return text\n",
    "\n",
    "def remove_punctuation_func(text):\n",
    "    return re.sub(r'[^a-zA-Z0-9]', ' ', text)\n",
    "\n",
    "def remove_extra_whitespaces_func(text):\n",
    "    return re.sub(r'^\\s*|\\s\\s*', ' ', text).strip()\n",
    "\n",
    "df['processed_text'] = df['text'].apply(preprocess_text)\n",
    "df['processed_text'] = df['processed_text'].apply(remove_single_char_func)\n",
    "df['processed_text'] = df['processed_text'].apply(remove_punctuation_func)\n",
    "df['processed_text'] = df['processed_text'].apply(remove_extra_whitespaces_func)\n",
    "df.head()"
   ]
  },
  {
   "cell_type": "markdown",
   "metadata": {},
   "source": [
    "Feature Extraction"
   ]
  },
  {
   "cell_type": "code",
   "execution_count": 4,
   "metadata": {},
   "outputs": [],
   "source": [
    "model = SentenceTransformer('thenlper/gte-large')\n",
    "sentence_embeddings = model.encode(df['text'].tolist())\n",
    "df_embeddings = pd.DataFrame(sentence_embeddings)"
   ]
  },
  {
   "cell_type": "markdown",
   "metadata": {},
   "source": [
    "Clustering"
   ]
  },
  {
   "cell_type": "code",
   "execution_count": 5,
   "metadata": {},
   "outputs": [
    {
     "name": "stderr",
     "output_type": "stream",
     "text": [
      "/root/anaconda3/envs/recover_dacon/lib/python3.9/site-packages/sklearn/cluster/_kmeans.py:1416: FutureWarning: The default value of `n_init` will change from 10 to 'auto' in 1.4. Set the value of `n_init` explicitly to suppress the warning\n",
      "  super()._check_params_vs_input(X, default_n_init=10)\n"
     ]
    }
   ],
   "source": [
    "# Sentence BERT 임베딩을 사용하여 군집화 수행\n",
    "kmeans = KMeans(n_clusters=6, random_state=42)\n",
    "\n",
    "df['kmeans_cluster'] = kmeans.fit_predict(sentence_embeddings)"
   ]
  },
  {
   "cell_type": "markdown",
   "metadata": {},
   "source": [
    "Post-processing"
   ]
  },
  {
   "cell_type": "code",
   "execution_count": 11,
   "metadata": {},
   "outputs": [
    {
     "data": {
      "text/plain": [
       "7     Bump Stock Maker Resumes Sales One Month After...\n",
       "19    Congress Spikes Handout For Private Equity aut...\n",
       "20    Deere's Color Is Green : With big tractors, bi...\n",
       "27    Kmart-Sears merger about price, quality : Aver...\n",
       "49    Bribery Considered, Halliburton Notes Suggest ...\n",
       "Name: text, dtype: object"
      ]
     },
     "execution_count": 11,
     "metadata": {},
     "output_type": "execute_result"
    }
   ],
   "source": [
    "df[df['kmeans_cluster'] == 5]['text'].head()"
   ]
  },
  {
   "cell_type": "markdown",
   "metadata": {},
   "source": [
    "Mapping"
   ]
  },
  {
   "cell_type": "code",
   "execution_count": 12,
   "metadata": {},
   "outputs": [],
   "source": [
    "# 0 busin\n",
    "# 1 enter\n",
    "# 2 politics\n",
    "# 3 sport\n",
    "# 4 tech\n",
    "# 5 world\n",
    "mapping_dict = {\n",
    "    0: 5, \n",
    "    1: 3,\n",
    "    2: 2, \n",
    "    3: 4,\n",
    "    4: 1,\n",
    "    5: 0,\n",
    "}"
   ]
  },
  {
   "cell_type": "code",
   "execution_count": 13,
   "metadata": {},
   "outputs": [],
   "source": [
    "df['mapping'] = df['kmeans_cluster'].apply(lambda x: mapping_dict[x])\n",
    "sample = pd.read_csv('./data/sample_submission.csv')\n",
    "sample['category'] = df['mapping'].values\n",
    "sample['category'].head()\n",
    "sample.to_csv('./data/final_submit.csv', index=False)"
   ]
  }
 ],
 "metadata": {
  "kernelspec": {
   "display_name": "Python 3 (ipykernel)",
   "language": "python",
   "name": "python3"
  },
  "language_info": {
   "codemirror_mode": {
    "name": "ipython",
    "version": 3
   },
   "file_extension": ".py",
   "mimetype": "text/x-python",
   "name": "python",
   "nbconvert_exporter": "python",
   "pygments_lexer": "ipython3",
   "version": "3.11.4"
  }
 },
 "nbformat": 4,
 "nbformat_minor": 4
}
